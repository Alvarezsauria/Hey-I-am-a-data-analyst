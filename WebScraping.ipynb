{
 "cells": [
  {
   "cell_type": "code",
   "execution_count": 14,
   "id": "38418279",
   "metadata": {},
   "outputs": [],
   "source": [
    "# Importing libraries\n",
    "from bs4 import BeautifulSoup\n",
    "import requests\n",
    "import re\n",
    "import pandas as pd\n",
    "from google_trans_new import google_translator  \n"
   ]
  },
  {
   "cell_type": "code",
   "execution_count": 3,
   "id": "8c31e7df",
   "metadata": {},
   "outputs": [],
   "source": [
    "# Obtaining data from IMDb\n",
    "url = 'http://www.imdb.com/chart/top'\n",
    "html = requests.get(url)\n",
    "soup = BeautifulSoup(html.text, 'html.parser')"
   ]
  },
  {
   "cell_type": "code",
   "execution_count": 4,
   "id": "a5fc4399",
   "metadata": {},
   "outputs": [],
   "source": [
    "# Selecting data\n",
    "films = soup.select('td.titleColumn')\n",
    "crew = [a.attrs.get('title') for a in soup.select('td.titleColumn a')]\n",
    "ratings = [b.attrs.get('data-value') for b in soup.select('td.posterColumn span[name=ir]')]"
   ]
  },
  {
   "cell_type": "code",
   "execution_count": 5,
   "id": "9f4f2d49",
   "metadata": {},
   "outputs": [],
   "source": [
    "# Creating an empty dataframe\n",
    "imdb = pd.DataFrame()"
   ]
  },
  {
   "cell_type": "code",
   "execution_count": 6,
   "id": "d35875d3",
   "metadata": {},
   "outputs": [],
   "source": [
    "# Creating to empty lists - columns\n",
    "title = []\n",
    "year = []\n",
    "\n",
    "# Split title text in Title and Year \n",
    "for i in range (0, len(films)):\n",
    "    title_text = films[i].get_text()\n",
    "    title_split = (' '.join(title_text.split()).replace('.', ''))\n",
    "    titles = title_split[len(str(i))+1:-7]\n",
    "    title.append(titles)\n",
    "    years = re.search('\\((.*?)\\)', title_text).group(1)\n",
    "    year.append(years)\n"
   ]
  },
  {
   "cell_type": "code",
   "execution_count": 7,
   "id": "5491d504",
   "metadata": {},
   "outputs": [],
   "source": [
    "# Adding columns to our dataframe\n",
    "imdb['Title'] = title\n",
    "imdb['Year'] = year\n",
    "imdb['Starring'] = crew\n",
    "imdb['Rate'] = ratings"
   ]
  },
  {
   "cell_type": "code",
   "execution_count": 8,
   "id": "1c247b38",
   "metadata": {},
   "outputs": [
    {
     "data": {
      "text/html": [
       "<div>\n",
       "<style scoped>\n",
       "    .dataframe tbody tr th:only-of-type {\n",
       "        vertical-align: middle;\n",
       "    }\n",
       "\n",
       "    .dataframe tbody tr th {\n",
       "        vertical-align: top;\n",
       "    }\n",
       "\n",
       "    .dataframe thead th {\n",
       "        text-align: right;\n",
       "    }\n",
       "</style>\n",
       "<table border=\"1\" class=\"dataframe\">\n",
       "  <thead>\n",
       "    <tr style=\"text-align: right;\">\n",
       "      <th></th>\n",
       "      <th>Title</th>\n",
       "      <th>Year</th>\n",
       "      <th>Starring</th>\n",
       "      <th>Rate</th>\n",
       "    </tr>\n",
       "  </thead>\n",
       "  <tbody>\n",
       "    <tr>\n",
       "      <td>0</td>\n",
       "      <td>Cadena perpetua</td>\n",
       "      <td>1994</td>\n",
       "      <td>Frank Darabont (dir.), Tim Robbins, Morgan Fre...</td>\n",
       "      <td>9.219631568656466</td>\n",
       "    </tr>\n",
       "    <tr>\n",
       "      <td>1</td>\n",
       "      <td>El padrino</td>\n",
       "      <td>1972</td>\n",
       "      <td>Francis Ford Coppola (dir.), Marlon Brando, Al...</td>\n",
       "      <td>9.147485565257945</td>\n",
       "    </tr>\n",
       "    <tr>\n",
       "      <td>2</td>\n",
       "      <td>El padrino: Parte II</td>\n",
       "      <td>1974</td>\n",
       "      <td>Francis Ford Coppola (dir.), Al Pacino, Robert...</td>\n",
       "      <td>8.97987482883011</td>\n",
       "    </tr>\n",
       "    <tr>\n",
       "      <td>3</td>\n",
       "      <td>El caballero oscuro</td>\n",
       "      <td>2008</td>\n",
       "      <td>Christopher Nolan (dir.), Christian Bale, Heat...</td>\n",
       "      <td>8.969640461405493</td>\n",
       "    </tr>\n",
       "    <tr>\n",
       "      <td>4</td>\n",
       "      <td>12 hombres sin piedad</td>\n",
       "      <td>1957</td>\n",
       "      <td>Sidney Lumet (dir.), Henry Fonda, Lee J. Cobb</td>\n",
       "      <td>8.934645774547555</td>\n",
       "    </tr>\n",
       "  </tbody>\n",
       "</table>\n",
       "</div>"
      ],
      "text/plain": [
       "                   Title  Year  \\\n",
       "0        Cadena perpetua  1994   \n",
       "1             El padrino  1972   \n",
       "2   El padrino: Parte II  1974   \n",
       "3    El caballero oscuro  2008   \n",
       "4  12 hombres sin piedad  1957   \n",
       "\n",
       "                                            Starring               Rate  \n",
       "0  Frank Darabont (dir.), Tim Robbins, Morgan Fre...  9.219631568656466  \n",
       "1  Francis Ford Coppola (dir.), Marlon Brando, Al...  9.147485565257945  \n",
       "2  Francis Ford Coppola (dir.), Al Pacino, Robert...   8.97987482883011  \n",
       "3  Christopher Nolan (dir.), Christian Bale, Heat...  8.969640461405493  \n",
       "4      Sidney Lumet (dir.), Henry Fonda, Lee J. Cobb  8.934645774547555  "
      ]
     },
     "execution_count": 8,
     "metadata": {},
     "output_type": "execute_result"
    }
   ],
   "source": [
    "imdb.head()"
   ]
  },
  {
   "cell_type": "code",
   "execution_count": 11,
   "id": "mobile-alberta",
   "metadata": {},
   "outputs": [],
   "source": [
    "def translation(x):\n",
    "    # Creating an object of the Translator class\n",
    "    translator = google_translator()  \n",
    "    # Translating to English\n",
    "    translate_text = translator.translate(x ,lang_tgt='en')\n",
    "    return translate_text\n",
    "\n",
    "imdb['English_Title'] = imdb.Title.apply(translation) "
   ]
  },
  {
   "cell_type": "code",
   "execution_count": 12,
   "id": "heard-chocolate",
   "metadata": {},
   "outputs": [
    {
     "data": {
      "text/html": [
       "<div>\n",
       "<style scoped>\n",
       "    .dataframe tbody tr th:only-of-type {\n",
       "        vertical-align: middle;\n",
       "    }\n",
       "\n",
       "    .dataframe tbody tr th {\n",
       "        vertical-align: top;\n",
       "    }\n",
       "\n",
       "    .dataframe thead th {\n",
       "        text-align: right;\n",
       "    }\n",
       "</style>\n",
       "<table border=\"1\" class=\"dataframe\">\n",
       "  <thead>\n",
       "    <tr style=\"text-align: right;\">\n",
       "      <th></th>\n",
       "      <th>Title</th>\n",
       "      <th>Year</th>\n",
       "      <th>Starring</th>\n",
       "      <th>Rate</th>\n",
       "      <th>English_Title</th>\n",
       "    </tr>\n",
       "  </thead>\n",
       "  <tbody>\n",
       "    <tr>\n",
       "      <td>0</td>\n",
       "      <td>Cadena perpetua</td>\n",
       "      <td>1994</td>\n",
       "      <td>Frank Darabont (dir.), Tim Robbins, Morgan Fre...</td>\n",
       "      <td>9.219631568656466</td>\n",
       "      <td>Life imprisonment</td>\n",
       "    </tr>\n",
       "    <tr>\n",
       "      <td>1</td>\n",
       "      <td>El padrino</td>\n",
       "      <td>1972</td>\n",
       "      <td>Francis Ford Coppola (dir.), Marlon Brando, Al...</td>\n",
       "      <td>9.147485565257945</td>\n",
       "      <td>The Godfather</td>\n",
       "    </tr>\n",
       "    <tr>\n",
       "      <td>2</td>\n",
       "      <td>El padrino: Parte II</td>\n",
       "      <td>1974</td>\n",
       "      <td>Francis Ford Coppola (dir.), Al Pacino, Robert...</td>\n",
       "      <td>8.97987482883011</td>\n",
       "      <td>The godfather: part II</td>\n",
       "    </tr>\n",
       "    <tr>\n",
       "      <td>3</td>\n",
       "      <td>El caballero oscuro</td>\n",
       "      <td>2008</td>\n",
       "      <td>Christopher Nolan (dir.), Christian Bale, Heat...</td>\n",
       "      <td>8.969640461405493</td>\n",
       "      <td>The dark knight</td>\n",
       "    </tr>\n",
       "    <tr>\n",
       "      <td>4</td>\n",
       "      <td>12 hombres sin piedad</td>\n",
       "      <td>1957</td>\n",
       "      <td>Sidney Lumet (dir.), Henry Fonda, Lee J. Cobb</td>\n",
       "      <td>8.934645774547555</td>\n",
       "      <td>12 men without mercy</td>\n",
       "    </tr>\n",
       "  </tbody>\n",
       "</table>\n",
       "</div>"
      ],
      "text/plain": [
       "                   Title  Year  \\\n",
       "0        Cadena perpetua  1994   \n",
       "1             El padrino  1972   \n",
       "2   El padrino: Parte II  1974   \n",
       "3    El caballero oscuro  2008   \n",
       "4  12 hombres sin piedad  1957   \n",
       "\n",
       "                                            Starring               Rate  \\\n",
       "0  Frank Darabont (dir.), Tim Robbins, Morgan Fre...  9.219631568656466   \n",
       "1  Francis Ford Coppola (dir.), Marlon Brando, Al...  9.147485565257945   \n",
       "2  Francis Ford Coppola (dir.), Al Pacino, Robert...   8.97987482883011   \n",
       "3  Christopher Nolan (dir.), Christian Bale, Heat...  8.969640461405493   \n",
       "4      Sidney Lumet (dir.), Henry Fonda, Lee J. Cobb  8.934645774547555   \n",
       "\n",
       "             English_Title  \n",
       "0       Life imprisonment   \n",
       "1           The Godfather   \n",
       "2  The godfather: part II   \n",
       "3         The dark knight   \n",
       "4    12 men without mercy   "
      ]
     },
     "execution_count": 12,
     "metadata": {},
     "output_type": "execute_result"
    }
   ],
   "source": [
    "imdb.head()"
   ]
  },
  {
   "cell_type": "code",
   "execution_count": 13,
   "id": "24b3639a",
   "metadata": {},
   "outputs": [],
   "source": [
    "imdb.to_csv('IMDb.csv')"
   ]
  },
  {
   "cell_type": "code",
   "execution_count": null,
   "id": "operating-documentation",
   "metadata": {},
   "outputs": [],
   "source": []
  }
 ],
 "metadata": {
  "kernelspec": {
   "display_name": "ironhack",
   "language": "python",
   "name": "ironhack"
  },
  "language_info": {
   "codemirror_mode": {
    "name": "ipython",
    "version": 3
   },
   "file_extension": ".py",
   "mimetype": "text/x-python",
   "name": "python",
   "nbconvert_exporter": "python",
   "pygments_lexer": "ipython3",
   "version": "3.6.13"
  }
 },
 "nbformat": 4,
 "nbformat_minor": 5
}
